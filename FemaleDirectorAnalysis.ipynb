{
 "cells": [
  {
   "cell_type": "markdown",
   "metadata": {},
   "source": [
    "# TMDB Top 5000 movies dataset\n",
    "\n",
    "## Goal: Analyze the careers of female film directors in contrast with male directors.\n",
    "\n",
    "#### Some questions that can be answered:\n",
    "    \n",
    "    - how long until female directors get a chance to direct a 2nd movie?\n",
    "    - do female directors hire a more diverse cast and crew?\n",
    "    - do flops effect the careers more than they do male directors? (may be hard to answer due to small sample size)\n",
    "    - do female directors direct certain genres more than others?\n",
    "    - can we distinguish between movies directed by males/females?\n",
    "    \n",
    "#### TODO\n",
    "    \n",
    "    1) get recent movies from TMDB via API\n",
    "    2) preprocess the crew and cast data and tag for female/male\n",
    "    3) search keywords of movie df for movies directed by women\n",
    "    4) preprocess movie dataframe for female/male classification and revenue analysis\n",
    "    5) EDA - can we answer any of the above questions?\n",
    "    6) Classifcation \n",
    "\n",
    "Comes from : https://www.kaggle.com/tmdb/tmdb-movie-metadata/data"
   ]
  },
  {
   "cell_type": "code",
   "execution_count": 11,
   "metadata": {},
   "outputs": [],
   "source": [
    "import pandas as pd\n",
    "import numpy as np\n",
    "import seaborn as sns\n",
    "import matplotlib.pyplot as plt\n",
    "import ast\n",
    "\n",
    "%matplotlib inline"
   ]
  },
  {
   "cell_type": "code",
   "execution_count": 52,
   "metadata": {},
   "outputs": [],
   "source": [
    "credits = pd.read_csv(\"tmdb_5000_credits.csv\",)\n",
    "movies = pd.read_csv(\"tmdb_5000_movies.csv\",parse_dates=['release_date'])"
   ]
  },
  {
   "cell_type": "code",
   "execution_count": 47,
   "metadata": {},
   "outputs": [
    {
     "data": {
      "text/html": [
       "<div>\n",
       "<style scoped>\n",
       "    .dataframe tbody tr th:only-of-type {\n",
       "        vertical-align: middle;\n",
       "    }\n",
       "\n",
       "    .dataframe tbody tr th {\n",
       "        vertical-align: top;\n",
       "    }\n",
       "\n",
       "    .dataframe thead th {\n",
       "        text-align: right;\n",
       "    }\n",
       "</style>\n",
       "<table border=\"1\" class=\"dataframe\">\n",
       "  <thead>\n",
       "    <tr style=\"text-align: right;\">\n",
       "      <th></th>\n",
       "      <th>movie_id</th>\n",
       "      <th>title</th>\n",
       "      <th>cast</th>\n",
       "      <th>crew</th>\n",
       "    </tr>\n",
       "  </thead>\n",
       "  <tbody>\n",
       "    <tr>\n",
       "      <th>0</th>\n",
       "      <td>19995</td>\n",
       "      <td>Avatar</td>\n",
       "      <td>[{\"cast_id\": 242, \"character\": \"Jake Sully\", \"...</td>\n",
       "      <td>[{\"credit_id\": \"52fe48009251416c750aca23\", \"de...</td>\n",
       "    </tr>\n",
       "    <tr>\n",
       "      <th>1</th>\n",
       "      <td>285</td>\n",
       "      <td>Pirates of the Caribbean: At World's End</td>\n",
       "      <td>[{\"cast_id\": 4, \"character\": \"Captain Jack Spa...</td>\n",
       "      <td>[{\"credit_id\": \"52fe4232c3a36847f800b579\", \"de...</td>\n",
       "    </tr>\n",
       "  </tbody>\n",
       "</table>\n",
       "</div>"
      ],
      "text/plain": [
       "   movie_id                                     title  \\\n",
       "0     19995                                    Avatar   \n",
       "1       285  Pirates of the Caribbean: At World's End   \n",
       "\n",
       "                                                cast  \\\n",
       "0  [{\"cast_id\": 242, \"character\": \"Jake Sully\", \"...   \n",
       "1  [{\"cast_id\": 4, \"character\": \"Captain Jack Spa...   \n",
       "\n",
       "                                                crew  \n",
       "0  [{\"credit_id\": \"52fe48009251416c750aca23\", \"de...  \n",
       "1  [{\"credit_id\": \"52fe4232c3a36847f800b579\", \"de...  "
      ]
     },
     "execution_count": 47,
     "metadata": {},
     "output_type": "execute_result"
    }
   ],
   "source": [
    "credits.head(2)"
   ]
  },
  {
   "cell_type": "markdown",
   "metadata": {},
   "source": [
    "#### Creatring Crew and Cast datasets"
   ]
  },
  {
   "cell_type": "code",
   "execution_count": 53,
   "metadata": {},
   "outputs": [],
   "source": [
    "# function that adds in the movie_id for cast and crew df\n",
    "def add_id_dicts(x,col):\n",
    "    new_list = []\n",
    "    for y in x[col]:\n",
    "        y['movie_id'] = x['movie_id']\n",
    "        new_list.append(y)\n",
    "    return new_list\n",
    "# function that converts string to list, adds in ids, then flattens and concatenates the cast/crew cols\n",
    "def preprocess_col_dicts(df,col):\n",
    "    # making so does not effect the original df\n",
    "    df = df.copy()\n",
    "    # convert to list structure instead of string\n",
    "    df[col] = df[col].apply(lambda x: ast.literal_eval(x))\n",
    "    # add in the movie id for when seperating out\n",
    "    df[col] = df.apply(lambda x: add_id_dicts(x,col),axis=1)\n",
    "    # flatten then concatenate\n",
    "    return pd.DataFrame([item for sublist in list(df[col]) for item in sublist])"
   ]
  },
  {
   "cell_type": "code",
   "execution_count": 54,
   "metadata": {},
   "outputs": [],
   "source": [
    "# create dataframes\n",
    "cast = preprocess_col_dicts(credits,'cast')\n",
    "crew = preprocess_col_dicts(credits,'crew')"
   ]
  },
  {
   "cell_type": "code",
   "execution_count": 55,
   "metadata": {},
   "outputs": [
    {
     "data": {
      "text/html": [
       "<div>\n",
       "<style scoped>\n",
       "    .dataframe tbody tr th:only-of-type {\n",
       "        vertical-align: middle;\n",
       "    }\n",
       "\n",
       "    .dataframe tbody tr th {\n",
       "        vertical-align: top;\n",
       "    }\n",
       "\n",
       "    .dataframe thead th {\n",
       "        text-align: right;\n",
       "    }\n",
       "</style>\n",
       "<table border=\"1\" class=\"dataframe\">\n",
       "  <thead>\n",
       "    <tr style=\"text-align: right;\">\n",
       "      <th></th>\n",
       "      <th>credit_id</th>\n",
       "      <th>department</th>\n",
       "      <th>gender</th>\n",
       "      <th>id</th>\n",
       "      <th>job</th>\n",
       "      <th>movie_id</th>\n",
       "      <th>name</th>\n",
       "    </tr>\n",
       "  </thead>\n",
       "  <tbody>\n",
       "    <tr>\n",
       "      <th>0</th>\n",
       "      <td>52fe48009251416c750aca23</td>\n",
       "      <td>Editing</td>\n",
       "      <td>0</td>\n",
       "      <td>1721</td>\n",
       "      <td>Editor</td>\n",
       "      <td>19995</td>\n",
       "      <td>Stephen E. Rivkin</td>\n",
       "    </tr>\n",
       "    <tr>\n",
       "      <th>1</th>\n",
       "      <td>539c47ecc3a36810e3001f87</td>\n",
       "      <td>Art</td>\n",
       "      <td>2</td>\n",
       "      <td>496</td>\n",
       "      <td>Production Design</td>\n",
       "      <td>19995</td>\n",
       "      <td>Rick Carter</td>\n",
       "    </tr>\n",
       "    <tr>\n",
       "      <th>2</th>\n",
       "      <td>54491c89c3a3680fb4001cf7</td>\n",
       "      <td>Sound</td>\n",
       "      <td>0</td>\n",
       "      <td>900</td>\n",
       "      <td>Sound Designer</td>\n",
       "      <td>19995</td>\n",
       "      <td>Christopher Boyes</td>\n",
       "    </tr>\n",
       "    <tr>\n",
       "      <th>3</th>\n",
       "      <td>54491cb70e0a267480001bd0</td>\n",
       "      <td>Sound</td>\n",
       "      <td>0</td>\n",
       "      <td>900</td>\n",
       "      <td>Supervising Sound Editor</td>\n",
       "      <td>19995</td>\n",
       "      <td>Christopher Boyes</td>\n",
       "    </tr>\n",
       "    <tr>\n",
       "      <th>4</th>\n",
       "      <td>539c4a4cc3a36810c9002101</td>\n",
       "      <td>Production</td>\n",
       "      <td>1</td>\n",
       "      <td>1262</td>\n",
       "      <td>Casting</td>\n",
       "      <td>19995</td>\n",
       "      <td>Mali Finn</td>\n",
       "    </tr>\n",
       "  </tbody>\n",
       "</table>\n",
       "</div>"
      ],
      "text/plain": [
       "                  credit_id  department  gender    id  \\\n",
       "0  52fe48009251416c750aca23     Editing       0  1721   \n",
       "1  539c47ecc3a36810e3001f87         Art       2   496   \n",
       "2  54491c89c3a3680fb4001cf7       Sound       0   900   \n",
       "3  54491cb70e0a267480001bd0       Sound       0   900   \n",
       "4  539c4a4cc3a36810c9002101  Production       1  1262   \n",
       "\n",
       "                        job  movie_id               name  \n",
       "0                    Editor     19995  Stephen E. Rivkin  \n",
       "1         Production Design     19995        Rick Carter  \n",
       "2            Sound Designer     19995  Christopher Boyes  \n",
       "3  Supervising Sound Editor     19995  Christopher Boyes  \n",
       "4                   Casting     19995          Mali Finn  "
      ]
     },
     "execution_count": 55,
     "metadata": {},
     "output_type": "execute_result"
    }
   ],
   "source": [
    "crew.head()"
   ]
  },
  {
   "cell_type": "code",
   "execution_count": 56,
   "metadata": {},
   "outputs": [
    {
     "data": {
      "text/html": [
       "<div>\n",
       "<style scoped>\n",
       "    .dataframe tbody tr th:only-of-type {\n",
       "        vertical-align: middle;\n",
       "    }\n",
       "\n",
       "    .dataframe tbody tr th {\n",
       "        vertical-align: top;\n",
       "    }\n",
       "\n",
       "    .dataframe thead th {\n",
       "        text-align: right;\n",
       "    }\n",
       "</style>\n",
       "<table border=\"1\" class=\"dataframe\">\n",
       "  <thead>\n",
       "    <tr style=\"text-align: right;\">\n",
       "      <th></th>\n",
       "      <th>cast_id</th>\n",
       "      <th>character</th>\n",
       "      <th>credit_id</th>\n",
       "      <th>gender</th>\n",
       "      <th>id</th>\n",
       "      <th>movie_id</th>\n",
       "      <th>name</th>\n",
       "      <th>order</th>\n",
       "    </tr>\n",
       "  </thead>\n",
       "  <tbody>\n",
       "    <tr>\n",
       "      <th>0</th>\n",
       "      <td>242</td>\n",
       "      <td>Jake Sully</td>\n",
       "      <td>5602a8a7c3a3685532001c9a</td>\n",
       "      <td>2</td>\n",
       "      <td>65731</td>\n",
       "      <td>19995</td>\n",
       "      <td>Sam Worthington</td>\n",
       "      <td>0</td>\n",
       "    </tr>\n",
       "    <tr>\n",
       "      <th>1</th>\n",
       "      <td>3</td>\n",
       "      <td>Neytiri</td>\n",
       "      <td>52fe48009251416c750ac9cb</td>\n",
       "      <td>1</td>\n",
       "      <td>8691</td>\n",
       "      <td>19995</td>\n",
       "      <td>Zoe Saldana</td>\n",
       "      <td>1</td>\n",
       "    </tr>\n",
       "    <tr>\n",
       "      <th>2</th>\n",
       "      <td>25</td>\n",
       "      <td>Dr. Grace Augustine</td>\n",
       "      <td>52fe48009251416c750aca39</td>\n",
       "      <td>1</td>\n",
       "      <td>10205</td>\n",
       "      <td>19995</td>\n",
       "      <td>Sigourney Weaver</td>\n",
       "      <td>2</td>\n",
       "    </tr>\n",
       "    <tr>\n",
       "      <th>3</th>\n",
       "      <td>4</td>\n",
       "      <td>Col. Quaritch</td>\n",
       "      <td>52fe48009251416c750ac9cf</td>\n",
       "      <td>2</td>\n",
       "      <td>32747</td>\n",
       "      <td>19995</td>\n",
       "      <td>Stephen Lang</td>\n",
       "      <td>3</td>\n",
       "    </tr>\n",
       "    <tr>\n",
       "      <th>4</th>\n",
       "      <td>5</td>\n",
       "      <td>Trudy Chacon</td>\n",
       "      <td>52fe48009251416c750ac9d3</td>\n",
       "      <td>1</td>\n",
       "      <td>17647</td>\n",
       "      <td>19995</td>\n",
       "      <td>Michelle Rodriguez</td>\n",
       "      <td>4</td>\n",
       "    </tr>\n",
       "  </tbody>\n",
       "</table>\n",
       "</div>"
      ],
      "text/plain": [
       "   cast_id            character                 credit_id  gender     id  \\\n",
       "0      242           Jake Sully  5602a8a7c3a3685532001c9a       2  65731   \n",
       "1        3              Neytiri  52fe48009251416c750ac9cb       1   8691   \n",
       "2       25  Dr. Grace Augustine  52fe48009251416c750aca39       1  10205   \n",
       "3        4        Col. Quaritch  52fe48009251416c750ac9cf       2  32747   \n",
       "4        5         Trudy Chacon  52fe48009251416c750ac9d3       1  17647   \n",
       "\n",
       "   movie_id                name  order  \n",
       "0     19995     Sam Worthington      0  \n",
       "1     19995         Zoe Saldana      1  \n",
       "2     19995    Sigourney Weaver      2  \n",
       "3     19995        Stephen Lang      3  \n",
       "4     19995  Michelle Rodriguez      4  "
      ]
     },
     "execution_count": 56,
     "metadata": {},
     "output_type": "execute_result"
    }
   ],
   "source": [
    "cast.head()"
   ]
  },
  {
   "cell_type": "markdown",
   "metadata": {},
   "source": [
    "### Tagging the Female Directors"
   ]
  },
  {
   "cell_type": "code",
   "execution_count": 58,
   "metadata": {},
   "outputs": [],
   "source": [
    "#crew['job'].value_counts().head(10)\n",
    "directors = crew[crew['job']=='Director'].copy()"
   ]
  },
  {
   "cell_type": "code",
   "execution_count": 59,
   "metadata": {},
   "outputs": [
    {
     "data": {
      "text/html": [
       "<div>\n",
       "<style scoped>\n",
       "    .dataframe tbody tr th:only-of-type {\n",
       "        vertical-align: middle;\n",
       "    }\n",
       "\n",
       "    .dataframe tbody tr th {\n",
       "        vertical-align: top;\n",
       "    }\n",
       "\n",
       "    .dataframe thead th {\n",
       "        text-align: right;\n",
       "    }\n",
       "</style>\n",
       "<table border=\"1\" class=\"dataframe\">\n",
       "  <thead>\n",
       "    <tr style=\"text-align: right;\">\n",
       "      <th></th>\n",
       "      <th>credit_id</th>\n",
       "      <th>department</th>\n",
       "      <th>gender</th>\n",
       "      <th>id</th>\n",
       "      <th>job</th>\n",
       "      <th>movie_id</th>\n",
       "      <th>name</th>\n",
       "    </tr>\n",
       "  </thead>\n",
       "  <tbody>\n",
       "    <tr>\n",
       "      <th>6</th>\n",
       "      <td>52fe48009251416c750ac9c3</td>\n",
       "      <td>Directing</td>\n",
       "      <td>2</td>\n",
       "      <td>2710</td>\n",
       "      <td>Director</td>\n",
       "      <td>19995</td>\n",
       "      <td>James Cameron</td>\n",
       "    </tr>\n",
       "    <tr>\n",
       "      <th>154</th>\n",
       "      <td>52fe4232c3a36847f800b4fd</td>\n",
       "      <td>Directing</td>\n",
       "      <td>2</td>\n",
       "      <td>1704</td>\n",
       "      <td>Director</td>\n",
       "      <td>285</td>\n",
       "      <td>Gore Verbinski</td>\n",
       "    </tr>\n",
       "    <tr>\n",
       "      <th>186</th>\n",
       "      <td>52fe4d22c3a368484e1d8d77</td>\n",
       "      <td>Directing</td>\n",
       "      <td>2</td>\n",
       "      <td>39</td>\n",
       "      <td>Director</td>\n",
       "      <td>206647</td>\n",
       "      <td>Sam Mendes</td>\n",
       "    </tr>\n",
       "    <tr>\n",
       "      <th>343</th>\n",
       "      <td>52fe4781c3a36847f8139865</td>\n",
       "      <td>Directing</td>\n",
       "      <td>2</td>\n",
       "      <td>525</td>\n",
       "      <td>Director</td>\n",
       "      <td>49026</td>\n",
       "      <td>Christopher Nolan</td>\n",
       "    </tr>\n",
       "    <tr>\n",
       "      <th>558</th>\n",
       "      <td>52fe479ac3a36847f813ea65</td>\n",
       "      <td>Directing</td>\n",
       "      <td>2</td>\n",
       "      <td>7</td>\n",
       "      <td>Director</td>\n",
       "      <td>49529</td>\n",
       "      <td>Andrew Stanton</td>\n",
       "    </tr>\n",
       "  </tbody>\n",
       "</table>\n",
       "</div>"
      ],
      "text/plain": [
       "                    credit_id department  gender    id       job  movie_id  \\\n",
       "6    52fe48009251416c750ac9c3  Directing       2  2710  Director     19995   \n",
       "154  52fe4232c3a36847f800b4fd  Directing       2  1704  Director       285   \n",
       "186  52fe4d22c3a368484e1d8d77  Directing       2    39  Director    206647   \n",
       "343  52fe4781c3a36847f8139865  Directing       2   525  Director     49026   \n",
       "558  52fe479ac3a36847f813ea65  Directing       2     7  Director     49529   \n",
       "\n",
       "                  name  \n",
       "6        James Cameron  \n",
       "154     Gore Verbinski  \n",
       "186         Sam Mendes  \n",
       "343  Christopher Nolan  \n",
       "558     Andrew Stanton  "
      ]
     },
     "execution_count": 59,
     "metadata": {},
     "output_type": "execute_result"
    }
   ],
   "source": [
    "directors.head()"
   ]
  },
  {
   "cell_type": "markdown",
   "metadata": {},
   "source": [
    "#### Build weak name classifier"
   ]
  },
  {
   "cell_type": "code",
   "execution_count": 63,
   "metadata": {},
   "outputs": [],
   "source": [
    "import nltk"
   ]
  },
  {
   "cell_type": "code",
   "execution_count": 64,
   "metadata": {},
   "outputs": [
    {
     "name": "stdout",
     "output_type": "stream",
     "text": [
      "showing info https://raw.githubusercontent.com/nltk/nltk_data/gh-pages/index.xml\n"
     ]
    },
    {
     "data": {
      "text/plain": [
       "True"
      ]
     },
     "execution_count": 64,
     "metadata": {},
     "output_type": "execute_result"
    }
   ],
   "source": [
    "nltk.download()"
   ]
  },
  {
   "cell_type": "code",
   "execution_count": 73,
   "metadata": {},
   "outputs": [
    {
     "data": {
      "text/plain": [
       "'k'"
      ]
     },
     "execution_count": 73,
     "metadata": {},
     "output_type": "execute_result"
    }
   ],
   "source": [
    "def pos_letter(word,x):\n",
    "    return word[x]\n",
    "\n",
    "def get_vowels(word):\n",
    "    # crete target list and list of vowels\n",
    "    vowels = ['a','e','i','o','u','y']    \n",
    "    vowels_word = []\n",
    "    \n",
    "    for let in word:\n",
    "        if let in vowels:\n",
    "            vowels_word.append(let)\n",
    "    return vowels_word#list(set(vowels_word))\n",
    "\n",
    "pos_letter('Shrek',0)\n",
    "pos_letter('Shrek',-1)"
   ]
  },
  {
   "cell_type": "code",
   "execution_count": 78,
   "metadata": {},
   "outputs": [],
   "source": [
    "# from:\n",
    "# http://www.nltk.org/book/ch06.html\n",
    " \t\n",
    "from nltk.corpus import names\n",
    "labeled_names = ([(name, 'male') for name in names.words('male.txt')] +[(name, 'female') for name in names.words('female.txt')])\n",
    "import random\n",
    "random.shuffle(labeled_names)\n",
    "\n",
    "# get labeled info to make df\n",
    "nice_names = []\n",
    "nice_labels = []\n",
    "for i in range(len(labeled_names)):\n",
    "    name = labeled_names[i][0]\n",
    "    label = labeled_names[i][1]\n",
    "    nice_names.append(name)\n",
    "    nice_labels.append(label)\n",
    "# make df\n",
    "names_df = pd.DataFrame()\n",
    "names_df['names'] = nice_names\n",
    "names_df['labels'] = nice_labels\n",
    "# get features\n",
    "names_df['first'] = names_df['names'].apply(lambda x: pos_letter(x,0))\n",
    "names_df['last'] = names_df['names'].apply(lambda x: pos_letter(x,-1))\n",
    "names_df['vowels'] = names_df['names'].apply(lambda x: get_vowels(x))\n",
    "names_df['n_vowels'] = names_df['vowels'].apply(len)\n",
    "names_df['name_len'] = names_df['names'].apply(len)\n",
    "names_df['vowel_prop'] = names_df['n_vowels']/names_df['name_len']"
   ]
  },
  {
   "cell_type": "code",
   "execution_count": 79,
   "metadata": {},
   "outputs": [],
   "source": [
    "from sklearn.preprocessing import LabelBinarizer\n",
    "from sklearn.cross_validation import train_test_split\n",
    "from sklearn.metrics import classification_report\n",
    "from sklearn.naive_bayes import MultinomialNB\n",
    "from sklearn.ensemble import AdaBoostClassifier,RandomForestClassifier\n",
    "from sklearn.linear_model import LogisticRegression,LassoCV,SGDClassifier,RidgeClassifier"
   ]
  },
  {
   "cell_type": "code",
   "execution_count": 80,
   "metadata": {},
   "outputs": [],
   "source": [
    "feats = ['first','last']\n",
    "\n",
    "final_df = names_df.copy()\n",
    "for col in  feats:\n",
    "    temp = pd.get_dummies(names_df[col],prefix=col,drop_first=True)\n",
    "    final_df = pd.concat([final_df,temp],axis=1)\n",
    "    temp = None"
   ]
  },
  {
   "cell_type": "code",
   "execution_count": 113,
   "metadata": {},
   "outputs": [],
   "source": [
    "x = final_df[final_df.columns[7:]]\n",
    "# 1 hot encoder\n",
    "lb = LabelBinarizer()\n",
    "y = lb.fit_transform(names_df['labels'])"
   ]
  },
  {
   "cell_type": "code",
   "execution_count": 122,
   "metadata": {},
   "outputs": [
    {
     "name": "stdout",
     "output_type": "stream",
     "text": [
      "             precision    recall  f1-score   support\n",
      "\n",
      "          0       0.81      0.85      0.83      2510\n",
      "          1       0.72      0.66      0.69      1462\n",
      "\n",
      "avg / total       0.78      0.78      0.78      3972\n",
      "\n",
      "             precision    recall  f1-score   support\n",
      "\n",
      "          0       0.80      0.86      0.83      2491\n",
      "          1       0.73      0.63      0.68      1481\n",
      "\n",
      "avg / total       0.77      0.78      0.77      3972\n",
      "\n"
     ]
    }
   ],
   "source": [
    "x_train,x_test,y_train,y_test = train_test_split(x,y,random_state=42,test_size= 0.5)\n",
    "#nb = MultinomialNB()\n",
    "#nb = LogisticRegression()\n",
    "#nb = RidgeClassifier()\n",
    "#nb = AdaBoostClassifier(n_estimators=500,learning_rate=0.9)\n",
    "#nb = RandomForestClassifier(n_estimators=500,min_samples_split=20)\n",
    "\n",
    "nb.fit(x_train,y_train.ravel())\n",
    "train_preds = nb.predict(x_train)\n",
    "print(classification_report(y_true=y_train,y_pred= train_preds))\n",
    "preds = nb.predict(x_test)\n",
    "print(classification_report(y_true=y_test,y_pred= preds))"
   ]
  },
  {
   "cell_type": "markdown",
   "metadata": {},
   "source": [
    "####  Can we build a better classifier?"
   ]
  },
  {
   "cell_type": "code",
   "execution_count": null,
   "metadata": {},
   "outputs": [],
   "source": [
    "#featuresets = [(gender_features(n), gender) for (n, gender) in labeled_names]\n",
    "#train_set, test_set = featuresets[500:], featuresets[:500]\n",
    "\n",
    "#from sklearn.naive_bayes import MultinomialNB\n",
    "#cf = MultinomialNB()\n",
    "#cf.fit(train_set,)\n",
    "\n",
    "#classifier = nltk.NaiveBayesClassifier.train(train_set)\n",
    "#classifier.classify(gender_features('michael'))\n",
    "#print(nltk.classify.accuracy(classifier, test_set))\n"
   ]
  },
  {
   "cell_type": "code",
   "execution_count": null,
   "metadata": {},
   "outputs": [],
   "source": []
  },
  {
   "cell_type": "code",
   "execution_count": null,
   "metadata": {},
   "outputs": [],
   "source": []
  },
  {
   "cell_type": "markdown",
   "metadata": {},
   "source": [
    "## Preprocess Movies DF"
   ]
  },
  {
   "cell_type": "code",
   "execution_count": 127,
   "metadata": {},
   "outputs": [],
   "source": [
    "def woman_director(x):\n",
    "    fem_director = False\n",
    "    for dic in x:\n",
    "        if 'woman director' in dic.values():\n",
    "            fem_director=True\n",
    "    return fem_director"
   ]
  },
  {
   "cell_type": "code",
   "execution_count": 130,
   "metadata": {},
   "outputs": [],
   "source": [
    "movies['keywords'] = movies['keywords'].apply(lambda x: ast.literal_eval(x))"
   ]
  },
  {
   "cell_type": "code",
   "execution_count": 131,
   "metadata": {},
   "outputs": [
    {
     "data": {
      "text/plain": [
       "False    4479\n",
       "True      324\n",
       "Name: female_director, dtype: int64"
      ]
     },
     "execution_count": 131,
     "metadata": {},
     "output_type": "execute_result"
    }
   ],
   "source": [
    "movies['female_director'] = movies['keywords'].apply(lambda x: woman_director(x))\n",
    "movies['female_director'].value_counts()"
   ]
  },
  {
   "cell_type": "markdown",
   "metadata": {},
   "source": [
    "With only 324 movies tagged as female director, we may need to apply the weak classifier on the director's names or grab more recent movie info from TMDB."
   ]
  },
  {
   "cell_type": "code",
   "execution_count": null,
   "metadata": {},
   "outputs": [],
   "source": [
    "movies[movies['female_director']==True].head(5)"
   ]
  },
  {
   "cell_type": "code",
   "execution_count": null,
   "metadata": {},
   "outputs": [],
   "source": [
    "movies['revenue'].describe()"
   ]
  },
  {
   "cell_type": "code",
   "execution_count": 56,
   "metadata": {},
   "outputs": [],
   "source": [
    "#grabbing the roles from the dictionary of crew memberts\n",
    "roles = ['Director','Screenplay','Producer','Writer','Editor','Art Direction',\n",
    "         'Casting','Costume Design','Executive Producer','Set Design']\n",
    "\n",
    "for role in roles:\n",
    "    \n",
    "    names = []\n",
    "\n",
    "    for i in range(len(credits['crew'])):\n",
    "\n",
    "        result = []\n",
    "        for j in range(len(credits['crew'][i])):\n",
    "            if credits['crew'][i][j]['job'] == role:\n",
    "                result.append(credits['crew'][i][j]['name'])\n",
    "\n",
    "        if len(result) ==0:\n",
    "            result.append('NA')\n",
    "\n",
    "        names.append(result)\n",
    "        \n",
    "    \n",
    "    credits[role] = names"
   ]
  },
  {
   "cell_type": "code",
   "execution_count": 52,
   "metadata": {},
   "outputs": [],
   "source": [
    "#credits['Director'] = directors"
   ]
  },
  {
   "cell_type": "code",
   "execution_count": null,
   "metadata": {},
   "outputs": [],
   "source": [
    "#credits.head(2)"
   ]
  },
  {
   "cell_type": "code",
   "execution_count": null,
   "metadata": {},
   "outputs": [],
   "source": [
    "#credits['crew'][0][0:10]"
   ]
  },
  {
   "cell_type": "markdown",
   "metadata": {},
   "source": [
    "#### Calculate Revenue Variables"
   ]
  },
  {
   "cell_type": "code",
   "execution_count": 63,
   "metadata": {},
   "outputs": [],
   "source": [
    "movies['total_profit'] = movies['revenue'] - movies['budget']"
   ]
  },
  {
   "cell_type": "code",
   "execution_count": 67,
   "metadata": {},
   "outputs": [],
   "source": [
    "movies['profit_margin'] = (((movies['revenue']-movies['budget'])/movies['revenue'])*100)"
   ]
  },
  {
   "cell_type": "code",
   "execution_count": 94,
   "metadata": {},
   "outputs": [
    {
     "data": {
      "text/plain": [
       "count    3.766000e+03\n",
       "mean     3.704284e+07\n",
       "std      4.264651e+07\n",
       "min      1.000000e+00\n",
       "25%      8.000000e+06\n",
       "50%      2.300000e+07\n",
       "75%      5.000000e+07\n",
       "max      3.800000e+08\n",
       "Name: budget, dtype: float64"
      ]
     },
     "execution_count": 94,
     "metadata": {},
     "output_type": "execute_result"
    }
   ],
   "source": [
    "movies['budget'].describe()"
   ]
  },
  {
   "cell_type": "code",
   "execution_count": 102,
   "metadata": {},
   "outputs": [],
   "source": [
    "# only get movies with positive revenue?\n",
    "movies = movies[movies['revenue'] > 0]\n",
    "movies = movies[movies['budget'] > 1000]\n",
    "# calculate roi\n",
    "movies['roi'] = (movies['total_profit'] - movies['budget'])/movies['budget']"
   ]
  },
  {
   "cell_type": "code",
   "execution_count": 105,
   "metadata": {},
   "outputs": [
    {
     "data": {
      "text/plain": [
       "count     3216.000000\n",
       "mean         9.123721\n",
       "std        239.882927\n",
       "min         -1.999999\n",
       "25%         -0.974031\n",
       "50%          0.301077\n",
       "75%          2.419082\n",
       "max      12888.386667\n",
       "Name: roi, dtype: float64"
      ]
     },
     "execution_count": 105,
     "metadata": {},
     "output_type": "execute_result"
    }
   ],
   "source": [
    "movies['roi'].describe()"
   ]
  },
  {
   "cell_type": "code",
   "execution_count": 107,
   "metadata": {},
   "outputs": [
    {
     "data": {
      "text/html": [
       "<div>\n",
       "<style scoped>\n",
       "    .dataframe tbody tr th:only-of-type {\n",
       "        vertical-align: middle;\n",
       "    }\n",
       "\n",
       "    .dataframe tbody tr th {\n",
       "        vertical-align: top;\n",
       "    }\n",
       "\n",
       "    .dataframe thead th {\n",
       "        text-align: right;\n",
       "    }\n",
       "</style>\n",
       "<table border=\"1\" class=\"dataframe\">\n",
       "  <thead>\n",
       "    <tr style=\"text-align: right;\">\n",
       "      <th></th>\n",
       "      <th>budget</th>\n",
       "      <th>genres</th>\n",
       "      <th>homepage</th>\n",
       "      <th>id</th>\n",
       "      <th>keywords</th>\n",
       "      <th>original_language</th>\n",
       "      <th>original_title</th>\n",
       "      <th>overview</th>\n",
       "      <th>popularity</th>\n",
       "      <th>production_companies</th>\n",
       "      <th>...</th>\n",
       "      <th>spoken_languages</th>\n",
       "      <th>status</th>\n",
       "      <th>tagline</th>\n",
       "      <th>title</th>\n",
       "      <th>vote_average</th>\n",
       "      <th>vote_count</th>\n",
       "      <th>total_profit</th>\n",
       "      <th>percent_profit</th>\n",
       "      <th>profit_margin</th>\n",
       "      <th>roi</th>\n",
       "    </tr>\n",
       "  </thead>\n",
       "  <tbody>\n",
       "    <tr>\n",
       "      <th>4577</th>\n",
       "      <td>15000</td>\n",
       "      <td>[{\"id\": 27, \"name\": \"Horror\"}, {\"id\": 9648, \"n...</td>\n",
       "      <td>http://www.paranormalactivity-movie.com/</td>\n",
       "      <td>23827</td>\n",
       "      <td>[{\"id\": 10224, \"name\": \"haunting\"}, {\"id\": 147...</td>\n",
       "      <td>en</td>\n",
       "      <td>Paranormal Activity</td>\n",
       "      <td>After a young, middle class couple moves into ...</td>\n",
       "      <td>47.456823</td>\n",
       "      <td>[{\"name\": \"Blumhouse Productions\", \"id\": 3172}...</td>\n",
       "      <td>...</td>\n",
       "      <td>[{\"iso_639_1\": \"en\", \"name\": \"English\"}]</td>\n",
       "      <td>Released</td>\n",
       "      <td>What Happens When You Sleep?</td>\n",
       "      <td>Paranormal Activity</td>\n",
       "      <td>5.9</td>\n",
       "      <td>1316</td>\n",
       "      <td>193340800</td>\n",
       "      <td>1.288939e+06</td>\n",
       "      <td>99.992242</td>\n",
       "      <td>12888.386667</td>\n",
       "    </tr>\n",
       "  </tbody>\n",
       "</table>\n",
       "<p>1 rows × 24 columns</p>\n",
       "</div>"
      ],
      "text/plain": [
       "      budget                                             genres  \\\n",
       "4577   15000  [{\"id\": 27, \"name\": \"Horror\"}, {\"id\": 9648, \"n...   \n",
       "\n",
       "                                      homepage     id  \\\n",
       "4577  http://www.paranormalactivity-movie.com/  23827   \n",
       "\n",
       "                                               keywords original_language  \\\n",
       "4577  [{\"id\": 10224, \"name\": \"haunting\"}, {\"id\": 147...                en   \n",
       "\n",
       "           original_title                                           overview  \\\n",
       "4577  Paranormal Activity  After a young, middle class couple moves into ...   \n",
       "\n",
       "      popularity                               production_companies  \\\n",
       "4577   47.456823  [{\"name\": \"Blumhouse Productions\", \"id\": 3172}...   \n",
       "\n",
       "          ...                               spoken_languages    status  \\\n",
       "4577      ...       [{\"iso_639_1\": \"en\", \"name\": \"English\"}]  Released   \n",
       "\n",
       "                           tagline                title vote_average  \\\n",
       "4577  What Happens When You Sleep?  Paranormal Activity          5.9   \n",
       "\n",
       "     vote_count total_profit percent_profit  profit_margin           roi  \n",
       "4577       1316    193340800   1.288939e+06      99.992242  12888.386667  \n",
       "\n",
       "[1 rows x 24 columns]"
      ]
     },
     "execution_count": 107,
     "metadata": {},
     "output_type": "execute_result"
    }
   ],
   "source": [
    "# which movie had the highest roi?\n",
    "movies[movies['roi'] == movies['roi'].max()]"
   ]
  },
  {
   "cell_type": "code",
   "execution_count": null,
   "metadata": {},
   "outputs": [],
   "source": []
  }
 ],
 "metadata": {
  "kernelspec": {
   "display_name": "Python 3",
   "language": "python",
   "name": "python3"
  },
  "language_info": {
   "codemirror_mode": {
    "name": "ipython",
    "version": 3
   },
   "file_extension": ".py",
   "mimetype": "text/x-python",
   "name": "python",
   "nbconvert_exporter": "python",
   "pygments_lexer": "ipython3",
   "version": "3.6.4"
  }
 },
 "nbformat": 4,
 "nbformat_minor": 2
}
